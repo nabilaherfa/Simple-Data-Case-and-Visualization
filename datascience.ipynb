{
 "cells": [
  {
   "cell_type": "code",
   "execution_count": 50,
   "metadata": {},
   "outputs": [],
   "source": [
    "import pandas as pd\n",
    "import matplotlib.pyplot as plt"
   ]
  },
  {
   "cell_type": "code",
   "execution_count": 51,
   "metadata": {},
   "outputs": [],
   "source": [
    "df = pd.read_csv(\"used_car_data.csv\")"
   ]
  },
  {
   "cell_type": "code",
   "execution_count": 52,
   "metadata": {},
   "outputs": [
    {
     "data": {
      "text/plain": [
       "Name\n",
       "Ambassador Classic Nova Diesel    1\n",
       "Audi A3 35 TDI Attraction         1\n",
       "Audi A3 35 TDI Premium            1\n",
       "Audi A3 35 TDI Premium Plus       1\n",
       "Audi A3 35 TDI Technology         1\n",
       "                                 ..\n",
       "Volvo XC60 D4 Summum              1\n",
       "Volvo XC60 D5                     3\n",
       "Volvo XC60 D5 Inscription         1\n",
       "Volvo XC90 2007-2015 D5 AT AWD    1\n",
       "Volvo XC90 2007-2015 D5 AWD       1\n",
       "Name: Year, Length: 1876, dtype: int64"
      ]
     },
     "execution_count": 52,
     "metadata": {},
     "output_type": "execute_result"
    }
   ],
   "source": [
    "# Tugas 1 : Merek mobil apa saja yang tersedia dan ada berapa banyak mobil untuk tiap merek\n",
    "df.groupby(\"Name\")[\"Year\"].count()"
   ]
  },
  {
   "cell_type": "code",
   "execution_count": 53,
   "metadata": {},
   "outputs": [
    {
     "data": {
      "text/plain": [
       "'Mumbai'"
      ]
     },
     "execution_count": 53,
     "metadata": {},
     "output_type": "execute_result"
    }
   ],
   "source": [
    "# Tugas 2 : Kota apa yang memiliki mobil bekas paling banyak?\n",
    "df1 = df.groupby(\"Location\")[\"Name\"].count()\n",
    "df1.idxmax()"
   ]
  },
  {
   "cell_type": "code",
   "execution_count": 69,
   "metadata": {},
   "outputs": [
    {
     "data": {
      "text/plain": [
       "<matplotlib.axes._subplots.AxesSubplot at 0x116f65fd0>"
      ]
     },
     "execution_count": 69,
     "metadata": {},
     "output_type": "execute_result"
    },
    {
     "data": {
      "image/png": "[encoded data removed]",
      "text/plain": [
       "<Figure size 432x288 with 1 Axes>"
      ]
     },
     "metadata": {
      "needs_background": "light"
     },
     "output_type": "display_data"
    }
   ],
   "source": [
    "# Tugas 3 : Bagaimana distribusi tahun edisi mobil-mobil bekas tersebut?\n",
    "\n",
    "# Distribusi mobil bekas dari tahun ke tahun\n",
    "df2=df.groupby(\"Year\")[\"Name\"].count()\n",
    "df2.plot(kind=\"line\",x=\"Year\",y=\"Jumlah mobil bekas\", title=\"Grafik distribusi banyak mobil bekas tiap tahun edisi\")"
   ]
  },
  {
   "cell_type": "code",
   "execution_count": 90,
   "metadata": {},
   "outputs": [
    {
     "data": {
      "text/plain": [
       "5470"
      ]
     },
     "execution_count": 90,
     "metadata": {},
     "output_type": "execute_result"
    }
   ],
   "source": [
    "# Tugas 4 : Berapa banyak mobil yang memiliki total jarak pemakaian dibawah 100.000 km?\n",
    "\n",
    "df.loc[df[\"Kilometers_Driven\"]<100000][\"Name\"].count()"
   ]
  },
  {
   "cell_type": "code",
   "execution_count": null,
   "metadata": {},
   "outputs": [],
   "source": [
    "# Tugas 5 : Pada batas berapa kilometer total jarak pemakaian bisa dikategorikan sebagai rendah atau tinggi?\n",
    "# Sertakan argumen mendukung!"
   ]
  },
  {
   "cell_type": "code",
   "execution_count": null,
   "metadata": {},
   "outputs": [],
   "source": [
    "#Tugas 6"
   ]
  },
  {
   "cell_type": "code",
   "execution_count": null,
   "metadata": {},
   "outputs": [],
   "source": [
    "#Tugas 7"
   ]
  },
  {
   "cell_type": "code",
   "execution_count": 93,
   "metadata": {},
   "outputs": [
    {
     "data": {
      "text/plain": [
       "122"
      ]
     },
     "execution_count": 93,
     "metadata": {},
     "output_type": "execute_result"
    }
   ],
   "source": [
    "# Tugas 8 : Berapa banyak mobil yang merupakan kepemilikan ketiga atau lebih?\n",
    "\n",
    "df.loc[(df[\"Owner_Type\"]==\"Third\") | (df[\"Owner_Type\"] == \"Fourth & Above\")][\"Name\"].count()"
   ]
  },
  {
   "cell_type": "code",
   "execution_count": 128,
   "metadata": {},
   "outputs": [
    {
     "data": {
      "text/plain": [
       "'Petrol'"
      ]
     },
     "execution_count": 128,
     "metadata": {},
     "output_type": "execute_result"
    }
   ],
   "source": [
    "# Tugas 9 : Tipe bahan bakar apa yang memiliki mileage (konsumsi bahan bakar) paling hemat?\n",
    "\n",
    "# Fungsi untuk menghapus string yang tidak diinginkan (pada kasus ini satuan kmpl dan km/kg)\n",
    "def clean(x):\n",
    "    if isinstance(x,str):\n",
    "        return(x.replace('kmpl','').replace('km/kg',''))\n",
    "    return(x)\n",
    "#Aplikasi fungsi pada column dataframe \"Mileage\" dan mengubah tipe data ke float\n",
    "df['Mileage']=df['Mileage'].apply(clean).astype('float')\n",
    "\n",
    "#Menghapus data kotor\n",
    "df_bersih = df.loc[df[\"Mileage\"]!=0.00].dropna()\n",
    "\n",
    "# Melihat rata-rata konsumsi bahan bakar tiap tipe bahan bakar\n",
    "df_fueltype = df_bersih.groupby(\"Fuel_Type\")[\"Mileage\"].mean()\n",
    "\n",
    "# Mendapat tipe kendaraan dengan rata-rata minimum konsumsi bahan bakar\n",
    "df_fueltype.idxmin()"
   ]
  },
  {
   "cell_type": "code",
   "execution_count": 143,
   "metadata": {},
   "outputs": [
    {
     "data": {
      "text/plain": [
       "5781    Petrol\n",
       "Name: Fuel_Type, dtype: object"
      ]
     },
     "execution_count": 143,
     "metadata": {},
     "output_type": "execute_result"
    }
   ],
   "source": [
    "# Alternatif 2 Nomor 9 : Jika Melihat secara keseluruhan langsung tipe bahan bakar apa yang mengonsumsi minimum bahan bakar\n",
    "df_sorted=df_bersih.sort_values([\"Mileage\"],ascending=[1])\n",
    "df_sorted[\"Fuel_Type\"][0:1]"
   ]
  },
  {
   "cell_type": "code",
   "execution_count": null,
   "metadata": {},
   "outputs": [],
   "source": []
  }
 ],
 "metadata": {
  "kernelspec": {
   "display_name": "Python 3",
   "language": "python",
   "name": "python3"
  },
  "language_info": {
   "codemirror_mode": {
    "name": "ipython",
    "version": 3
   },
   "file_extension": ".py",
   "mimetype": "text/x-python",
   "name": "python",
   "nbconvert_exporter": "python",
   "pygments_lexer": "ipython3",
   "version": "3.7.4"
  }
 },
 "nbformat": 4,
 "nbformat_minor": 2
}
